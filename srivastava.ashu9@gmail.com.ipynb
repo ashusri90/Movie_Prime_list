{
 "cells": [
  {
   "cell_type": "markdown",
   "metadata": {},
   "source": [
    "# PRIME TIME"
   ]
  },
  {
   "cell_type": "markdown",
   "metadata": {},
   "source": [
    "## Problem: \n",
    "\n",
    "    - We need to find the time slot which has the most tickets sold"
   ]
  },
  {
   "cell_type": "markdown",
   "metadata": {},
   "source": [
    "## Disclaimer:\n",
    "As time slots are relative to day (date), not week, **movie_run_date** is used to create window in which we have to find the time_slot having maximum number of tickets sold."
   ]
  },
  {
   "cell_type": "code",
   "execution_count": 33,
   "metadata": {
    "collapsed": false
   },
   "outputs": [],
   "source": [
    "import logging\n",
    "\n",
    "from pyspark.sql.functions import when, row_number, col, desc\n",
    "from pyspark.sql.window import Window"
   ]
  },
  {
   "cell_type": "code",
   "execution_count": 43,
   "metadata": {
    "collapsed": false
   },
   "outputs": [
    {
     "data": {
      "text/plain": [
       "<module 'logging' from '/dhcommon/dhpython/dhpython-2.7.10/lib/python2.7/logging/__init__.pyc'>"
      ]
     },
     "execution_count": 43,
     "metadata": {},
     "output_type": "execute_result"
    }
   ],
   "source": [
    "reload(logging)"
   ]
  },
  {
   "cell_type": "code",
   "execution_count": 44,
   "metadata": {
    "collapsed": true
   },
   "outputs": [],
   "source": [
    "app_name = \"PRIME_TIME\"\n",
    "logging.basicConfig(\n",
    "    format='{} %(asctime)s %(levelname)s:%(message)s'.format(app_name),\n",
    "    level=logging.DEBUG, \n",
    "    datefmt='%I:%M:%S'\n",
    ")\n",
    "\n",
    "logger = logging.getLogger(name=app_name)\n",
    "\n",
    "logging.getLogger(\"py4j\").setLevel(logging.ERROR)"
   ]
  },
  {
   "cell_type": "code",
   "execution_count": 56,
   "metadata": {
    "collapsed": true
   },
   "outputs": [],
   "source": [
    "## Functions\n",
    "\n",
    "def get_prime_time(df):\n",
    "    \"\"\"\n",
    "    Function to tag prime time slot for a movie.\n",
    "    \n",
    "    Args:\n",
    "        df {pyspark.sql.DataFrame}: Input dataframe\n",
    "    \n",
    "    Returns:\n",
    "        {pyspark.sql.DataFrame}: Dataframe with prime time tagging.\n",
    "    \"\"\"\n",
    "    df_rank =  df.withColumn(\n",
    "        \"rank\",\n",
    "        row_number().over(Window.partitionBy(\"movie_id\", \"week\",\"movie_run_date\")\n",
    "                          .orderBy(desc(\"number_of_tkts_sold\"), desc(\"movie_start_time\")))\n",
    "    )\n",
    "    \n",
    "    return df_rank \\\n",
    "        .withColumn(\"is_prime_time\", when(col(\"rank\") == 1, \"TRUE\").otherwise(\"FALSE\")) \\\n",
    "        .drop(\"rank\")"
   ]
  },
  {
   "cell_type": "markdown",
   "metadata": {
    "collapsed": true
   },
   "source": [
    "\n",
    "### Creating schema of dataset "
   ]
  },
  {
   "cell_type": "code",
   "execution_count": 38,
   "metadata": {
    "collapsed": true
   },
   "outputs": [],
   "source": [
    "movie_schema = ('movie_id', \n",
    "                'movie_start_time',\n",
    "                'movie_end_time', \n",
    "                'movie_run_date',\n",
    "                'week', \n",
    "                'year',\n",
    "                'theatre_name', \n",
    "                'state',\n",
    "                'city',\n",
    "                'country',\n",
    "                'number_of_tkts_sold')"
   ]
  },
  {
   "cell_type": "markdown",
   "metadata": {
    "collapsed": false
   },
   "source": [
    "### Data Set with single week "
   ]
  },
  {
   "cell_type": "code",
   "execution_count": 39,
   "metadata": {
    "collapsed": false
   },
   "outputs": [],
   "source": [
    "data = [(1,\"12:00:00\",\"15:00:00\",\"07/10/19\",38,2019,\"Inox\",\"Maharashtra\",\"Mumbai\",\"India\",1000),\n",
    "        (1,\"15:00:00\",\"18:00:00\",\"07/10/19\",38,2019,\"Inox\",\"Maharashtra\",\"Mumbai\",\"India\",5000),\n",
    "        (1,\"18:00:00\",\"21:00:00\",\"07/10/19\",38,2019,\"Inox\",\"Maharashtra\",\"Mumbai\",\"India\",10000),\n",
    "        (1,\"21:00:00\",\"23:59:59\",\"07/10/19\",38,2019,\"Inox\",\"Maharashtra\",\"Mumbai\",\"India\",120000),\n",
    "        (1,\"12:00:00\",\"15:00:00\",\"08/10/19\",38,2019,\"Inox\",\"Maharashtra\",\"Mumbai\",\"India\",1000),\n",
    "        (1,\"15:00:00\",\"18:00:00\",\"08/10/19\",38,2019,\"Inox\",\"Maharashtra\",\"Mumbai\",\"India\",5000),\n",
    "        (1,\"18:00:00\",\"21:00:00\",\"08/10/19\",38,2019,\"Inox\",\"Maharashtra\",\"Mumbai\",\"India\",10000),\n",
    "        (1,\"21:00:00\",\"23:59:59\",\"08/10/19\",38,2019,\"Inox\",\"Maharashtra\",\"Mumbai\",\"India\",120000),\n",
    "        (1,\"12:00:00\",\"15:00:00\",\"09/10/19\",38,2019,\"Inox\",\"Maharashtra\",\"Mumbai\",\"India\",1000),\n",
    "        (1,\"15:00:00\",\"18:00:00\",\"09/10/19\",38,2019,\"Inox\",\"Maharashtra\",\"Mumbai\",\"India\",5000),\n",
    "        (1,\"18:00:00\",\"21:00:00\",\"09/10/19\",38,2019,\"Inox\",\"Maharashtra\",\"Mumbai\",\"India\",10000),\n",
    "        (1,\"21:00:00\",\"23:59:59\",\"09/10/19\",38,2019,\"Inox\",\"Maharashtra\",\"Mumbai\",\"India\",120000),\n",
    "        (1,\"12:00:00\",\"15:00:00\",\"10/10/19\",38,2019,\"Inox\",\"Maharashtra\",\"Mumbai\",\"India\",1000),\n",
    "        (1,\"15:00:00\",\"18:00:00\",\"10/10/19\",38,2019,\"Inox\",\"Maharashtra\",\"Mumbai\",\"India\",5000),\n",
    "        (1,\"18:00:00\",\"21:00:00\",\"10/10/19\",38,2019,\"Inox\",\"Maharashtra\",\"Mumbai\",\"India\",10000),\n",
    "        (1,\"21:00:00\",\"23:59:59\",\"10/10/19\",38,2019,\"Inox\",\"Maharashtra\",\"Mumbai\",\"India\",120000),\n",
    "        (1,\"12:00:00\",\"15:00:00\",\"11/10/19\",38,2019,\"Inox\",\"Maharashtra\",\"Mumbai\",\"India\",1000),\n",
    "        (1,\"15:00:00\",\"18:00:00\",\"11/10/19\",38,2019,\"Inox\",\"Maharashtra\",\"Mumbai\",\"India\",5000),\n",
    "        (1,\"18:00:00\",\"21:00:00\",\"11/10/19\",38,2019,\"Inox\",\"Maharashtra\",\"Mumbai\",\"India\",10000),\n",
    "        (1,\"21:00:00\",\"23:59:59\",\"11/10/19\",38,2019,\"Inox\",\"Maharashtra\",\"Mumbai\",\"India\",120000),\n",
    "        (1,\"12:00:00\",\"15:00:00\",\"12/10/19\",38,2019,\"Inox\",\"Maharashtra\",\"Mumbai\",\"India\",1000),\n",
    "        (1,\"15:00:00\",\"18:00:00\",\"12/10/19\",38,2019,\"Inox\",\"Maharashtra\",\"Mumbai\",\"India\",5000),\n",
    "        (1,\"18:00:00\",\"21:00:00\",\"12/10/19\",38,2019,\"Inox\",\"Maharashtra\",\"Mumbai\",\"India\",10000),\n",
    "        (1,\"21:00:00\",\"23:59:59\",\"12/10/19\",38,2019,\"Inox\",\"Maharashtra\",\"Mumbai\",\"India\",120000)]"
   ]
  },
  {
   "cell_type": "code",
   "execution_count": 45,
   "metadata": {
    "collapsed": false
   },
   "outputs": [
    {
     "name": "stderr",
     "output_type": "stream",
     "text": [
      "PRIME_TIME 03:20:43 INFO:Reading dataset\n"
     ]
    }
   ],
   "source": [
    "logger.info(\"Reading dataset\")\n",
    "movie_data = sqlContext.createDataFrame(data, movie_schema)"
   ]
  },
  {
   "cell_type": "code",
   "execution_count": 50,
   "metadata": {
    "collapsed": false
   },
   "outputs": [
    {
     "name": "stderr",
     "output_type": "stream",
     "text": [
      "PRIME_TIME 03:40:25 DEBUG:Ranking time based on number_of_tkts_sold\n"
     ]
    }
   ],
   "source": [
    "logger.debug(\"Ranking time based on %s\" % \"number_of_tkts_sold\")\n",
    "df_out = get_prime_time(movie_data)"
   ]
  },
  {
   "cell_type": "code",
   "execution_count": 71,
   "metadata": {
    "collapsed": false
   },
   "outputs": [
    {
     "name": "stdout",
     "output_type": "stream",
     "text": [
      "+--------+----------------+--------------+--------------+----+----+------------+-----------+------+-------+-------------------+-------------+\n",
      "|movie_id|movie_start_time|movie_end_time|movie_run_date|week|year|theatre_name|      state|  city|country|number_of_tkts_sold|is_prime_time|\n",
      "+--------+----------------+--------------+--------------+----+----+------------+-----------+------+-------+-------------------+-------------+\n",
      "|       1|        21:00:00|      23:59:59|      11/10/19|  38|2019|        Inox|Maharashtra|Mumbai|  India|             120000|         TRUE|\n",
      "|       1|        18:00:00|      21:00:00|      11/10/19|  38|2019|        Inox|Maharashtra|Mumbai|  India|              10000|        FALSE|\n",
      "|       1|        15:00:00|      18:00:00|      11/10/19|  38|2019|        Inox|Maharashtra|Mumbai|  India|               5000|        FALSE|\n",
      "|       1|        12:00:00|      15:00:00|      11/10/19|  38|2019|        Inox|Maharashtra|Mumbai|  India|               1000|        FALSE|\n",
      "|       1|        21:00:00|      23:59:59|      08/10/19|  38|2019|        Inox|Maharashtra|Mumbai|  India|             120000|         TRUE|\n",
      "|       1|        18:00:00|      21:00:00|      08/10/19|  38|2019|        Inox|Maharashtra|Mumbai|  India|              10000|        FALSE|\n",
      "|       1|        15:00:00|      18:00:00|      08/10/19|  38|2019|        Inox|Maharashtra|Mumbai|  India|               5000|        FALSE|\n",
      "|       1|        12:00:00|      15:00:00|      08/10/19|  38|2019|        Inox|Maharashtra|Mumbai|  India|               1000|        FALSE|\n",
      "|       1|        21:00:00|      23:59:59|      09/10/19|  38|2019|        Inox|Maharashtra|Mumbai|  India|             120000|         TRUE|\n",
      "|       1|        18:00:00|      21:00:00|      09/10/19|  38|2019|        Inox|Maharashtra|Mumbai|  India|              10000|        FALSE|\n",
      "|       1|        15:00:00|      18:00:00|      09/10/19|  38|2019|        Inox|Maharashtra|Mumbai|  India|               5000|        FALSE|\n",
      "|       1|        12:00:00|      15:00:00|      09/10/19|  38|2019|        Inox|Maharashtra|Mumbai|  India|               1000|        FALSE|\n",
      "|       1|        21:00:00|      23:59:59|      12/10/19|  38|2019|        Inox|Maharashtra|Mumbai|  India|             120000|         TRUE|\n",
      "|       1|        18:00:00|      21:00:00|      12/10/19|  38|2019|        Inox|Maharashtra|Mumbai|  India|              10000|        FALSE|\n",
      "|       1|        15:00:00|      18:00:00|      12/10/19|  38|2019|        Inox|Maharashtra|Mumbai|  India|               5000|        FALSE|\n",
      "|       1|        12:00:00|      15:00:00|      12/10/19|  38|2019|        Inox|Maharashtra|Mumbai|  India|               1000|        FALSE|\n",
      "|       1|        21:00:00|      23:59:59|      10/10/19|  38|2019|        Inox|Maharashtra|Mumbai|  India|             120000|         TRUE|\n",
      "|       1|        18:00:00|      21:00:00|      10/10/19|  38|2019|        Inox|Maharashtra|Mumbai|  India|              10000|        FALSE|\n",
      "|       1|        15:00:00|      18:00:00|      10/10/19|  38|2019|        Inox|Maharashtra|Mumbai|  India|               5000|        FALSE|\n",
      "|       1|        12:00:00|      15:00:00|      10/10/19|  38|2019|        Inox|Maharashtra|Mumbai|  India|               1000|        FALSE|\n",
      "|       1|        21:00:00|      23:59:59|      07/10/19|  38|2019|        Inox|Maharashtra|Mumbai|  India|             120000|         TRUE|\n",
      "|       1|        18:00:00|      21:00:00|      07/10/19|  38|2019|        Inox|Maharashtra|Mumbai|  India|              10000|        FALSE|\n",
      "|       1|        15:00:00|      18:00:00|      07/10/19|  38|2019|        Inox|Maharashtra|Mumbai|  India|               5000|        FALSE|\n",
      "|       1|        12:00:00|      15:00:00|      07/10/19|  38|2019|        Inox|Maharashtra|Mumbai|  India|               1000|        FALSE|\n",
      "+--------+----------------+--------------+--------------+----+----+------------+-----------+------+-------+-------------------+-------------+\n",
      "\n"
     ]
    }
   ],
   "source": [
    "df_out.sort(\"movie_id\",\"week\").show(30)"
   ]
  },
  {
   "cell_type": "code",
   "execution_count": null,
   "metadata": {
    "collapsed": true
   },
   "outputs": [],
   "source": []
  },
  {
   "cell_type": "markdown",
   "metadata": {},
   "source": [
    "## Data set 2: with multiple weeks"
   ]
  },
  {
   "cell_type": "code",
   "execution_count": 66,
   "metadata": {
    "collapsed": true
   },
   "outputs": [],
   "source": [
    "data_2 = [(1,\"12:00:00\",\"15:00:00\",\"07/10/19\",38,2019,\"Inox\",\"Maharashtra\",\"Mumbai\",\"India\",1000),\n",
    "        (1,\"15:00:00\",\"18:00:00\",\"07/10/19\",38,2019,\"Inox\",\"Maharashtra\",\"Mumbai\",\"India\",5000),\n",
    "        (1,\"18:00:00\",\"21:00:00\",\"07/11/19\",39,2019,\"Inox\",\"Maharashtra\",\"Mumbai\",\"India\",10000),\n",
    "        (1,\"21:00:00\",\"23:59:59\",\"07/11/19\",39,2019,\"Inox\",\"Maharashtra\",\"Mumbai\",\"India\",120000),\n",
    "        (2,\"12:00:00\",\"15:00:00\",\"08/10/19\",38,2019,\"Inox\",\"Maharashtra\",\"Mumbai\",\"India\",1000),\n",
    "        (2,\"15:00:00\",\"18:00:00\",\"08/10/19\",38,2019,\"Inox\",\"Maharashtra\",\"Mumbai\",\"India\",5000),\n",
    "        (2,\"18:00:00\",\"21:00:00\",\"08/11/19\",39,2019,\"Inox\",\"Maharashtra\",\"Mumbai\",\"India\",10000),\n",
    "        (2,\"21:00:00\",\"23:59:59\",\"08/11/19\",39,2019,\"Inox\",\"Maharashtra\",\"Mumbai\",\"India\",10000),\n",
    "        (3,\"12:00:00\",\"15:00:00\",\"09/10/19\",38,2019,\"Inox\",\"Maharashtra\",\"Mumbai\",\"India\",1000),\n",
    "        (3,\"15:00:00\",\"18:00:00\",\"09/10/19\",38,2019,\"Inox\",\"Maharashtra\",\"Mumbai\",\"India\",5000),\n",
    "        (3,\"18:00:00\",\"21:00:00\",\"09/11/19\",39,2019,\"Inox\",\"Maharashtra\",\"Mumbai\",\"India\",10000),\n",
    "        (3,\"21:00:00\",\"23:59:59\",\"09/10/19\",39,2019,\"Inox\",\"Maharashtra\",\"Mumbai\",\"India\",120000),\n",
    "        (4,\"12:00:00\",\"15:00:00\",\"10/10/19\",38,2019,\"Inox\",\"Maharashtra\",\"Mumbai\",\"India\",1000),\n",
    "        (4,\"15:00:00\",\"18:00:00\",\"10/10/19\",38,2019,\"Inox\",\"Maharashtra\",\"Mumbai\",\"India\",5000),\n",
    "        (4,\"18:00:00\",\"21:00:00\",\"10/11/19\",39,2019,\"Inox\",\"Maharashtra\",\"Mumbai\",\"India\",10000),\n",
    "        (4,\"21:00:00\",\"23:59:59\",\"10/11/19\",39,2019,\"Inox\",\"Maharashtra\",\"Mumbai\",\"India\",120000),\n",
    "        (4,\"12:00:00\",\"15:00:00\",\"11/09/19\",37,2019,\"Inox\",\"Maharashtra\",\"Mumbai\",\"India\",1000),\n",
    "        (4,\"15:00:00\",\"18:00:00\",\"11/09/19\",37,2019,\"Inox\",\"Maharashtra\",\"Mumbai\",\"India\",5000),\n",
    "        (4,\"18:00:00\",\"21:00:00\",\"11/12/19\",40,2019,\"Inox\",\"Maharashtra\",\"Mumbai\",\"India\",10000),\n",
    "        (4,\"21:00:00\",\"23:59:59\",\"11/06/19\",33,2019,\"Inox\",\"Maharashtra\",\"Mumbai\",\"India\",120000),\n",
    "        (4,\"12:00:00\",\"15:00:00\",\"12/06/19\",33,2019,\"Inox\",\"Maharashtra\",\"Mumbai\",\"India\",1000),\n",
    "        (4,\"15:00:00\",\"18:00:00\",\"12/05/19\",32,2019,\"Inox\",\"Maharashtra\",\"Mumbai\",\"India\",10000),\n",
    "        (4,\"18:00:00\",\"21:00:00\",\"12/05/19\",32,2019,\"Inox\",\"Maharashtra\",\"Mumbai\",\"India\",10000),\n",
    "        (4,\"21:00:00\",\"23:59:59\",\"12/05/19\",32,2019,\"Inox\",\"Maharashtra\",\"Mumbai\",\"India\",10000)]"
   ]
  },
  {
   "cell_type": "code",
   "execution_count": 67,
   "metadata": {
    "collapsed": true
   },
   "outputs": [],
   "source": [
    "logger.info(\"Reading dataset\")\n",
    "movie_data_2 = spark.createDataFrame(data_2, movie_schema)"
   ]
  },
  {
   "cell_type": "code",
   "execution_count": 68,
   "metadata": {
    "collapsed": true
   },
   "outputs": [],
   "source": [
    "logger.debug(\"Ranking time based on %s\" % \"number_of_tkts_sold\")\n",
    "df_out2 = get_prime_time(movie_data_2)"
   ]
  },
  {
   "cell_type": "code",
   "execution_count": 70,
   "metadata": {
    "collapsed": false,
    "scrolled": true
   },
   "outputs": [
    {
     "name": "stdout",
     "output_type": "stream",
     "text": [
      "+--------+----------------+--------------+--------------+----+----+------------+-----------+------+-------+-------------------+-------------+\n",
      "|movie_id|movie_start_time|movie_end_time|movie_run_date|week|year|theatre_name|      state|  city|country|number_of_tkts_sold|is_prime_time|\n",
      "+--------+----------------+--------------+--------------+----+----+------------+-----------+------+-------+-------------------+-------------+\n",
      "|       1|        15:00:00|      18:00:00|      07/10/19|  38|2019|        Inox|Maharashtra|Mumbai|  India|               5000|         TRUE|\n",
      "|       1|        12:00:00|      15:00:00|      07/10/19|  38|2019|        Inox|Maharashtra|Mumbai|  India|               1000|        FALSE|\n",
      "|       1|        21:00:00|      23:59:59|      07/11/19|  39|2019|        Inox|Maharashtra|Mumbai|  India|             120000|         TRUE|\n",
      "|       1|        18:00:00|      21:00:00|      07/11/19|  39|2019|        Inox|Maharashtra|Mumbai|  India|              10000|        FALSE|\n",
      "|       2|        15:00:00|      18:00:00|      08/10/19|  38|2019|        Inox|Maharashtra|Mumbai|  India|               5000|         TRUE|\n",
      "|       2|        12:00:00|      15:00:00|      08/10/19|  38|2019|        Inox|Maharashtra|Mumbai|  India|               1000|        FALSE|\n",
      "|       2|        18:00:00|      21:00:00|      08/11/19|  39|2019|        Inox|Maharashtra|Mumbai|  India|              10000|        FALSE|\n",
      "|       2|        21:00:00|      23:59:59|      08/11/19|  39|2019|        Inox|Maharashtra|Mumbai|  India|              10000|         TRUE|\n",
      "|       3|        15:00:00|      18:00:00|      09/10/19|  38|2019|        Inox|Maharashtra|Mumbai|  India|               5000|         TRUE|\n",
      "|       3|        12:00:00|      15:00:00|      09/10/19|  38|2019|        Inox|Maharashtra|Mumbai|  India|               1000|        FALSE|\n",
      "|       3|        18:00:00|      21:00:00|      09/11/19|  39|2019|        Inox|Maharashtra|Mumbai|  India|              10000|         TRUE|\n",
      "|       3|        21:00:00|      23:59:59|      09/10/19|  39|2019|        Inox|Maharashtra|Mumbai|  India|             120000|         TRUE|\n",
      "|       4|        18:00:00|      21:00:00|      12/05/19|  32|2019|        Inox|Maharashtra|Mumbai|  India|              10000|        FALSE|\n",
      "|       4|        21:00:00|      23:59:59|      12/05/19|  32|2019|        Inox|Maharashtra|Mumbai|  India|              10000|         TRUE|\n",
      "|       4|        15:00:00|      18:00:00|      12/05/19|  32|2019|        Inox|Maharashtra|Mumbai|  India|              10000|        FALSE|\n",
      "|       4|        21:00:00|      23:59:59|      11/06/19|  33|2019|        Inox|Maharashtra|Mumbai|  India|             120000|         TRUE|\n",
      "|       4|        12:00:00|      15:00:00|      12/06/19|  33|2019|        Inox|Maharashtra|Mumbai|  India|               1000|         TRUE|\n",
      "|       4|        15:00:00|      18:00:00|      11/09/19|  37|2019|        Inox|Maharashtra|Mumbai|  India|               5000|         TRUE|\n",
      "|       4|        12:00:00|      15:00:00|      11/09/19|  37|2019|        Inox|Maharashtra|Mumbai|  India|               1000|        FALSE|\n",
      "|       4|        12:00:00|      15:00:00|      10/10/19|  38|2019|        Inox|Maharashtra|Mumbai|  India|               1000|        FALSE|\n",
      "|       4|        15:00:00|      18:00:00|      10/10/19|  38|2019|        Inox|Maharashtra|Mumbai|  India|               5000|         TRUE|\n",
      "|       4|        21:00:00|      23:59:59|      10/11/19|  39|2019|        Inox|Maharashtra|Mumbai|  India|             120000|         TRUE|\n",
      "|       4|        18:00:00|      21:00:00|      10/11/19|  39|2019|        Inox|Maharashtra|Mumbai|  India|              10000|        FALSE|\n",
      "|       4|        18:00:00|      21:00:00|      11/12/19|  40|2019|        Inox|Maharashtra|Mumbai|  India|              10000|         TRUE|\n",
      "+--------+----------------+--------------+--------------+----+----+------------+-----------+------+-------+-------------------+-------------+\n",
      "\n"
     ]
    }
   ],
   "source": [
    "df_out2.sort(\"movie_id\",\"week\").show(30)"
   ]
  },
  {
   "cell_type": "code",
   "execution_count": null,
   "metadata": {
    "collapsed": true
   },
   "outputs": [],
   "source": []
  },
  {
   "cell_type": "code",
   "execution_count": null,
   "metadata": {
    "collapsed": true
   },
   "outputs": [],
   "source": []
  },
  {
   "cell_type": "code",
   "execution_count": null,
   "metadata": {
    "collapsed": true
   },
   "outputs": [],
   "source": []
  }
 ],
 "metadata": {
  "kernelspec": {
   "display_name": "Python 2",
   "language": "python",
   "name": "python2"
  },
  "language_info": {
   "codemirror_mode": {
    "name": "ipython",
    "version": 2
   },
   "file_extension": ".py",
   "mimetype": "text/x-python",
   "name": "python",
   "nbconvert_exporter": "python",
   "pygments_lexer": "ipython2",
   "version": "2.7.10"
  }
 },
 "nbformat": 4,
 "nbformat_minor": 1
}
